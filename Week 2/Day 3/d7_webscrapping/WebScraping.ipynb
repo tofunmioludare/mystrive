{
 "cells": [
  {
   "cell_type": "code",
   "execution_count": 28,
   "id": "453a41dc",
   "metadata": {},
   "outputs": [],
   "source": [
    "import requests\n",
    "from bs4 import BeautifulSoup\n",
    "import pandas as pd"
   ]
  },
  {
   "cell_type": "code",
   "execution_count": 29,
   "id": "594e2bc7",
   "metadata": {},
   "outputs": [],
   "source": [
    "page = requests.get(\"https://forecast.weather.gov/MapClick.php?lat=37.777120000000025&lon=-122.41963999999996#.YLeQsS0RpQI\")"
   ]
  },
  {
   "cell_type": "code",
   "execution_count": 30,
   "id": "20a45b0f",
   "metadata": {},
   "outputs": [],
   "source": [
    "soup =BeautifulSoup(page.content, 'html.parser')\n",
    "\n",
    "for data in all_data:\n",
    "    name.append(data.find('a').get_text(separator=' '))\n",
    "    desc.append(data.find('p', class_= \"\").get_text(separator=' '))\n",
    "    \n",
    "    name_text = name.find('a').text\n",
    "    movie_name.append(name_text)"
   ]
  },
  {
   "cell_type": "code",
   "execution_count": 38,
   "id": "ef6acef3",
   "metadata": {},
   "outputs": [
    {
     "name": "stdout",
     "output_type": "stream",
     "text": [
      "Weather Information with Temperature in Fahrenheit\n",
      "             Days                               Descriptions Temperatures\n",
      "0           Today         Mostly Sunny then Sunny and Breezy  High: 68 °F\n",
      "1         Tonight                          Increasing Clouds   Low: 54 °F\n",
      "2          Friday         Mostly Sunny then Sunny and Breezy  High: 68 °F\n",
      "3    Friday Night  Mostly Clear and Breezy then Mostly Clear   Low: 52 °F\n",
      "4        Saturday                                      Sunny  High: 68 °F\n",
      "5  Saturday Night                               Mostly Clear   Low: 52 °F\n",
      "6          Sunday                                      Sunny  High: 67 °F\n",
      "7    Sunday Night                               Mostly Clear   Low: 52 °F\n",
      "8          Monday                                      Sunny  High: 64 °F\n",
      "\n",
      "\n",
      "Weather Information with Temperature in Celsius\n",
      "             Days                               Descriptions   Temperatures\n",
      "0           Today         Mostly Sunny then Sunny and Breezy  High: 90.0 °C\n",
      "1         Tonight                          Increasing Clouds   Low: 55.0 °C\n",
      "2          Friday         Mostly Sunny then Sunny and Breezy  High: 90.0 °C\n",
      "3    Friday Night  Mostly Clear and Breezy then Mostly Clear   Low: 50.0 °C\n",
      "4        Saturday                                      Sunny  High: 90.0 °C\n",
      "5  Saturday Night                               Mostly Clear   Low: 50.0 °C\n",
      "6          Sunday                                      Sunny  High: 87.5 °C\n",
      "7    Sunday Night                               Mostly Clear   Low: 50.0 °C\n",
      "8          Monday                                      Sunny  High: 80.0 °C\n"
     ]
    }
   ],
   "source": [
    "allWeather = soup.find_all('div', class_='tombstone-container')\n",
    "\n",
    "days = []\n",
    "descriptions = []\n",
    "temperatures = []\n",
    "for data in allWeather:\n",
    "    days.append(data.find('p', class_='period-name').get_text(separator=' '))\n",
    "    descriptions.append(data.find('p', class_='short-desc').get_text(separator=' '))\n",
    "    temperatures.append(data.find('p', class_='temp').get_text(separator=' '))\n",
    "    \n",
    "dataTuples1 = zip(days, descriptions, temperatures)\n",
    "weatherInfo = pd.DataFrame(dataTuples1, columns=['Days', 'Descriptions', 'Temperatures'])\n",
    "    \n",
    "def toCelsius(fahrenheit):\n",
    "    intF = int(fahrenheit)\n",
    "    celsius = round((intF - 32)*5/2, 2)\n",
    "    return str(celsius)\n",
    "\n",
    "temperaturesC = []\n",
    "for temp in temperatures:\n",
    "    splittedT = temp.split()\n",
    "    splittedT[1] = toCelsius(splittedT[1])\n",
    "    splittedT[2] = splittedT[2].replace('F', 'C')\n",
    "    joinedT = \" \".join(splittedT)\n",
    "    temperaturesC.append(joinedT)\n",
    "    \n",
    "dataTuples2 = zip(days, descriptions, temperaturesC)\n",
    "weatherInfoC = pd.DataFrame(dataTuples2, columns=['Days', 'Descriptions', 'Temperatures'])\n",
    "\n",
    "\n",
    "print(f\"Weather Information with Temperature in Fahrenheit\\n{weatherInfo}\")\n",
    "print(f\"\\n\\nWeather Information with Temperature in Celsius\\n{weatherInfoC}\")"
   ]
  },
  {
   "cell_type": "code",
   "execution_count": 35,
   "id": "1bf26d5d",
   "metadata": {},
   "outputs": [],
   "source": []
  },
  {
   "cell_type": "code",
   "execution_count": null,
   "id": "b7cbd8c4",
   "metadata": {},
   "outputs": [],
   "source": []
  }
 ],
 "metadata": {
  "kernelspec": {
   "display_name": "Python 3",
   "language": "python",
   "name": "python3"
  },
  "language_info": {
   "codemirror_mode": {
    "name": "ipython",
    "version": 3
   },
   "file_extension": ".py",
   "mimetype": "text/x-python",
   "name": "python",
   "nbconvert_exporter": "python",
   "pygments_lexer": "ipython3",
   "version": "3.8.10"
  }
 },
 "nbformat": 4,
 "nbformat_minor": 5
}
