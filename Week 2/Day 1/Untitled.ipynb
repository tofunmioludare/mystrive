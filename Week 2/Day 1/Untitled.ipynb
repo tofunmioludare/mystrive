{
 "cells": [
  {
   "cell_type": "code",
   "execution_count": 2,
   "id": "4609953b",
   "metadata": {},
   "outputs": [
    {
     "name": "stdout",
     "output_type": "stream",
     "text": [
      "   Data1  Data2\n",
      "0    0.0    0.0\n",
      "1    0.5    0.5\n",
      "2    1.0    1.0\n"
     ]
    }
   ],
   "source": [
    "import pandas as pd\n",
    "\n",
    "df = pd.DataFrame({\"Data1\": [10,20,30], \"Data2\": [40,50,60]})\n",
    "\n",
    "norm_df = (df-df.min())/(df.max()-df.min())\n",
    "print(norm_df)\n"
   ]
  },
  {
   "cell_type": "code",
   "execution_count": null,
   "id": "48a78a95",
   "metadata": {},
   "outputs": [],
   "source": []
  }
 ],
 "metadata": {
  "kernelspec": {
   "display_name": "Python 3",
   "language": "python",
   "name": "python3"
  },
  "language_info": {
   "codemirror_mode": {
    "name": "ipython",
    "version": 3
   },
   "file_extension": ".py",
   "mimetype": "text/x-python",
   "name": "python",
   "nbconvert_exporter": "python",
   "pygments_lexer": "ipython3",
   "version": "3.8.10"
  }
 },
 "nbformat": 4,
 "nbformat_minor": 5
}
