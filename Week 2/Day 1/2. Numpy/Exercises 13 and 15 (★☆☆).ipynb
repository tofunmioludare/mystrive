{
 "cells": [
  {
   "cell_type": "code",
   "execution_count": null,
   "id": "biological-worcester",
   "metadata": {},
   "outputs": [],
   "source": [
    "# Import the needed libraries"
   ]
  },
  {
   "cell_type": "markdown",
   "id": "champion-greensboro",
   "metadata": {},
   "source": [
    "**13. Create a 10x10 array with random values and find the minimum and maximum values**"
   ]
  },
  {
   "cell_type": "code",
   "execution_count": 11,
   "id": "joint-explorer",
   "metadata": {},
   "outputs": [
    {
     "name": "stdout",
     "output_type": "stream",
     "text": [
      "[[0.46326666 0.49737365 0.38970419 0.33093791 0.32471494 0.51539085\n",
      "  0.83173731 0.59518269 0.45494245 0.25145417]\n",
      " [0.86524984 0.30630882 0.04382473 0.07676437 0.17488753 0.44918323\n",
      "  0.06233274 0.54248342 0.65326168 0.67081342]\n",
      " [0.51199643 0.60758774 0.63394963 0.37643033 0.76836729 0.9765876\n",
      "  0.7450019  0.44446424 0.1269431  0.55239264]\n",
      " [0.4942388  0.3531621  0.08780257 0.49711505 0.01738242 0.90109695\n",
      "  0.24608062 0.35406441 0.91332152 0.73542221]\n",
      " [0.12665158 0.74501764 0.67356043 0.88691266 0.35138831 0.89701139\n",
      "  0.98001652 0.14549567 0.03245413 0.40268019]\n",
      " [0.18427089 0.0196469  0.75729844 0.03536914 0.09791654 0.72356816\n",
      "  0.41623245 0.26838298 0.18308946 0.45311918]\n",
      " [0.13382853 0.42781034 0.53784059 0.87218859 0.77126073 0.3252979\n",
      "  0.20528354 0.71493753 0.61715724 0.80757171]\n",
      " [0.02393856 0.77643853 0.66264938 0.72007817 0.25453016 0.29296654\n",
      "  0.40338091 0.62291754 0.55247995 0.16594832]\n",
      " [0.72335228 0.97960845 0.90033901 0.49402131 0.15935503 0.26277769\n",
      "  0.96311284 0.1900011  0.92495162 0.76390816]\n",
      " [0.37846354 0.91597236 0.44479116 0.32234561 0.89976308 0.84752574\n",
      "  0.45946142 0.66458888 0.86472912 0.39857373]]\n",
      "\n",
      "\n",
      "The minimum and maximum values of x are 0.017382417642166526 and 0.9800165221129684 respectively.\n"
     ]
    }
   ],
   "source": [
    "import numpy as np\n",
    "\n",
    "x = np.random.random([10,10])\n",
    "\n",
    "minx, maxx = x.min(), x.max()\n",
    "\n",
    "print(x)\n",
    "print(f\"\\n\\nThe minimum and maximum values of x are {minx} and {maxx} respectively.\")"
   ]
  },
  {
   "cell_type": "markdown",
   "id": "exempt-organ",
   "metadata": {},
   "source": [
    "**15. Create a 2d array with 1 on the border and 0 inside**"
   ]
  },
  {
   "cell_type": "code",
   "execution_count": 16,
   "id": "sufficient-facility",
   "metadata": {},
   "outputs": [
    {
     "name": "stdout",
     "output_type": "stream",
     "text": [
      "[[1. 1. 1. 1.]\n",
      " [1. 0. 0. 1.]\n",
      " [1. 0. 0. 1.]\n",
      " [1. 1. 1. 1.]]\n"
     ]
    }
   ],
   "source": [
    "y = np.ones((4,4))\n",
    "y[1:-1, 1:-1] = 0\n",
    "\n",
    "print(y)"
   ]
  },
  {
   "cell_type": "code",
   "execution_count": null,
   "id": "d9916c7f",
   "metadata": {},
   "outputs": [],
   "source": []
  }
 ],
 "metadata": {
  "kernelspec": {
   "display_name": "Python 3",
   "language": "python",
   "name": "python3"
  },
  "language_info": {
   "codemirror_mode": {
    "name": "ipython",
    "version": 3
   },
   "file_extension": ".py",
   "mimetype": "text/x-python",
   "name": "python",
   "nbconvert_exporter": "python",
   "pygments_lexer": "ipython3",
   "version": "3.8.10"
  }
 },
 "nbformat": 4,
 "nbformat_minor": 5
}
