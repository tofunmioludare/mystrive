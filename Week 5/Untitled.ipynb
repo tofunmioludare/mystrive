{
 "cells": [
  {
   "cell_type": "code",
   "execution_count": 8,
   "id": "6f1bf773",
   "metadata": {},
   "outputs": [],
   "source": [
    "import numpy as np\n",
    "from sklearn.preprocessing import StandardScaler as scaler\n",
    "import matplotlib.pyplot as plt"
   ]
  },
  {
   "cell_type": "code",
   "execution_count": 12,
   "id": "a3d71f4d",
   "metadata": {},
   "outputs": [
    {
     "name": "stdout",
     "output_type": "stream",
     "text": [
      "[-1.41421356 -0.70710678  0.          0.70710678  1.41421356]\n",
      "0.0\n",
      "0.9999999999999999\n"
     ]
    }
   ],
   "source": [
    "a = np.array([1,2,3,4,5])\n",
    "\n",
    "z = (a - np.mean(a))/np.std(a)\n",
    "\n",
    "print(z)\n",
    "print(np.mean(z))\n",
    "print(np.std(z))"
   ]
  },
  {
   "cell_type": "code",
   "execution_count": 13,
   "id": "d3a90f07",
   "metadata": {},
   "outputs": [],
   "source": [
    "scaler = scaler()"
   ]
  },
  {
   "cell_type": "code",
   "execution_count": 14,
   "id": "1853a13f",
   "metadata": {},
   "outputs": [],
   "source": [
    "a = a.reshape(-1,1)"
   ]
  },
  {
   "cell_type": "code",
   "execution_count": 15,
   "id": "fe28c8a3",
   "metadata": {},
   "outputs": [
    {
     "data": {
      "text/plain": [
       "StandardScaler(copy=True, with_mean=True, with_std=True)"
      ]
     },
     "execution_count": 15,
     "metadata": {},
     "output_type": "execute_result"
    }
   ],
   "source": [
    "scaler.fit(a)"
   ]
  },
  {
   "cell_type": "code",
   "execution_count": 16,
   "id": "77dc6e47",
   "metadata": {},
   "outputs": [
    {
     "data": {
      "text/plain": [
       "array([3.])"
      ]
     },
     "execution_count": 16,
     "metadata": {},
     "output_type": "execute_result"
    }
   ],
   "source": [
    "scaler.mean_"
   ]
  },
  {
   "cell_type": "code",
   "execution_count": 17,
   "id": "ba7a9bd5",
   "metadata": {},
   "outputs": [
    {
     "data": {
      "text/plain": [
       "array([2.])"
      ]
     },
     "execution_count": 17,
     "metadata": {},
     "output_type": "execute_result"
    }
   ],
   "source": [
    "scaler.var_"
   ]
  },
  {
   "cell_type": "code",
   "execution_count": 18,
   "id": "77c8d322",
   "metadata": {},
   "outputs": [
    {
     "data": {
      "text/plain": [
       "array([[-1.41421356],\n",
       "       [-0.70710678],\n",
       "       [ 0.        ],\n",
       "       [ 0.70710678],\n",
       "       [ 1.41421356]])"
      ]
     },
     "execution_count": 18,
     "metadata": {},
     "output_type": "execute_result"
    }
   ],
   "source": [
    "scaler.transform(a)"
   ]
  },
  {
   "cell_type": "code",
   "execution_count": 19,
   "id": "b57f8ba8",
   "metadata": {},
   "outputs": [
    {
     "data": {
      "text/plain": [
       "array([[-1.41421356],\n",
       "       [-0.70710678],\n",
       "       [ 0.        ],\n",
       "       [ 0.70710678],\n",
       "       [ 1.41421356]])"
      ]
     },
     "execution_count": 19,
     "metadata": {},
     "output_type": "execute_result"
    }
   ],
   "source": [
    "scaler.fit_transform(a)"
   ]
  },
  {
   "cell_type": "code",
   "execution_count": 20,
   "id": "fa295c61",
   "metadata": {},
   "outputs": [
    {
     "data": {
      "text/plain": [
       "array([[1.],\n",
       "       [2.],\n",
       "       [3.],\n",
       "       [4.],\n",
       "       [5.]])"
      ]
     },
     "execution_count": 20,
     "metadata": {},
     "output_type": "execute_result"
    }
   ],
   "source": [
    "scaler.inverse_transform(scaler.fit_transform(a))"
   ]
  },
  {
   "cell_type": "code",
   "execution_count": 26,
   "id": "0b495c2e",
   "metadata": {},
   "outputs": [],
   "source": [
    "x = np.random.randint(1, 500, 500)\n",
    "y = np.random.randint(1, 200, 500)"
   ]
  },
  {
   "cell_type": "code",
   "execution_count": 37,
   "id": "5ceabf1c",
   "metadata": {},
   "outputs": [
    {
     "data": {
      "text/plain": [
       "(500, 1)"
      ]
     },
     "execution_count": 37,
     "metadata": {},
     "output_type": "execute_result"
    }
   ],
   "source": [
    "x.reshape(-1,1).shape"
   ]
  },
  {
   "cell_type": "code",
   "execution_count": 36,
   "id": "259fb2a1",
   "metadata": {},
   "outputs": [
    {
     "data": {
      "text/plain": [
       "(500, 1)"
      ]
     },
     "execution_count": 36,
     "metadata": {},
     "output_type": "execute_result"
    }
   ],
   "source": [
    "y.reshape(-1,1).shape"
   ]
  },
  {
   "cell_type": "code",
   "execution_count": 28,
   "id": "93f2ec88",
   "metadata": {},
   "outputs": [
    {
     "data": {
      "text/plain": [
       "(array([ 7.,  3.,  6.,  3.,  2.,  6.,  7.,  7.,  6.,  6.,  2.,  8.,  8.,\n",
       "         7.,  2.,  4.,  1.,  1.,  6.,  6.,  3.,  3.,  6.,  6.,  3.,  7.,\n",
       "         4.,  6.,  9.,  7.,  4.,  5.,  6.,  4.,  4.,  2.,  4.,  3.,  3.,\n",
       "         9.,  4.,  8.,  4.,  3.,  8.,  4.,  7.,  6.,  6.,  7.,  2.,  6.,\n",
       "         3.,  3.,  4.,  5.,  2.,  3.,  8.,  6.,  6.,  6.,  4.,  3.,  6.,\n",
       "         2.,  6.,  5.,  2.,  7.,  3.,  9.,  3.,  4.,  6.,  7.,  5.,  9.,\n",
       "         5.,  4.,  4.,  3.,  6.,  2.,  4., 11.,  7.,  4.,  5.,  7.,  7.,\n",
       "         5.,  5.,  6.,  1.,  6.,  5.,  3.,  5.,  7.]),\n",
       " array([  5.  ,   9.94,  14.88,  19.82,  24.76,  29.7 ,  34.64,  39.58,\n",
       "         44.52,  49.46,  54.4 ,  59.34,  64.28,  69.22,  74.16,  79.1 ,\n",
       "         84.04,  88.98,  93.92,  98.86, 103.8 , 108.74, 113.68, 118.62,\n",
       "        123.56, 128.5 , 133.44, 138.38, 143.32, 148.26, 153.2 , 158.14,\n",
       "        163.08, 168.02, 172.96, 177.9 , 182.84, 187.78, 192.72, 197.66,\n",
       "        202.6 , 207.54, 212.48, 217.42, 222.36, 227.3 , 232.24, 237.18,\n",
       "        242.12, 247.06, 252.  , 256.94, 261.88, 266.82, 271.76, 276.7 ,\n",
       "        281.64, 286.58, 291.52, 296.46, 301.4 , 306.34, 311.28, 316.22,\n",
       "        321.16, 326.1 , 331.04, 335.98, 340.92, 345.86, 350.8 , 355.74,\n",
       "        360.68, 365.62, 370.56, 375.5 , 380.44, 385.38, 390.32, 395.26,\n",
       "        400.2 , 405.14, 410.08, 415.02, 419.96, 424.9 , 429.84, 434.78,\n",
       "        439.72, 444.66, 449.6 , 454.54, 459.48, 464.42, 469.36, 474.3 ,\n",
       "        479.24, 484.18, 489.12, 494.06, 499.  ]),\n",
       " <BarContainer object of 100 artists>)"
      ]
     },
     "execution_count": 28,
     "metadata": {},
     "output_type": "execute_result"
    },
    {
     "data": {
      "image/png": "[encoded data removed]",
      "text/plain": [
       "<Figure size 432x288 with 1 Axes>"
      ]
     },
     "metadata": {
      "needs_background": "light"
     },
     "output_type": "display_data"
    }
   ],
   "source": [
    "plt.hist(x, bins = 100)"
   ]
  },
  {
   "cell_type": "code",
   "execution_count": 29,
   "id": "4829fa25",
   "metadata": {},
   "outputs": [
    {
     "data": {
      "text/plain": [
       "(array([ 9.,  7.,  1.,  3.,  2.,  5.,  3.,  3.,  6.,  5.,  7.,  6.,  1.,\n",
       "         3.,  7.,  8.,  2.,  4.,  8.,  3.,  8.,  9.,  4.,  4.,  8.,  7.,\n",
       "         5.,  3.,  6.,  2.,  6.,  8.,  6.,  8.,  3.,  7.,  3.,  7., 10.,\n",
       "         7.,  4.,  7.,  4.,  2.,  4.,  2.,  2., 10.,  2.,  6.,  7.,  3.,\n",
       "         5.,  4.,  5.,  4.,  4.,  5.,  6.,  7.,  7.,  9.,  3.,  3.,  4.,\n",
       "         5.,  5.,  3.,  5.,  1.,  3.,  2., 12.,  4.,  3.,  8.,  4.,  3.,\n",
       "         4.,  1.,  3.,  7.,  3.,  5.,  4.,  7., 10.,  1.,  5.,  8.,  4.,\n",
       "         5.,  3.,  7.,  3.,  8.,  8.,  4.,  5.,  4.]),\n",
       " array([  1.  ,   2.98,   4.96,   6.94,   8.92,  10.9 ,  12.88,  14.86,\n",
       "         16.84,  18.82,  20.8 ,  22.78,  24.76,  26.74,  28.72,  30.7 ,\n",
       "         32.68,  34.66,  36.64,  38.62,  40.6 ,  42.58,  44.56,  46.54,\n",
       "         48.52,  50.5 ,  52.48,  54.46,  56.44,  58.42,  60.4 ,  62.38,\n",
       "         64.36,  66.34,  68.32,  70.3 ,  72.28,  74.26,  76.24,  78.22,\n",
       "         80.2 ,  82.18,  84.16,  86.14,  88.12,  90.1 ,  92.08,  94.06,\n",
       "         96.04,  98.02, 100.  , 101.98, 103.96, 105.94, 107.92, 109.9 ,\n",
       "        111.88, 113.86, 115.84, 117.82, 119.8 , 121.78, 123.76, 125.74,\n",
       "        127.72, 129.7 , 131.68, 133.66, 135.64, 137.62, 139.6 , 141.58,\n",
       "        143.56, 145.54, 147.52, 149.5 , 151.48, 153.46, 155.44, 157.42,\n",
       "        159.4 , 161.38, 163.36, 165.34, 167.32, 169.3 , 171.28, 173.26,\n",
       "        175.24, 177.22, 179.2 , 181.18, 183.16, 185.14, 187.12, 189.1 ,\n",
       "        191.08, 193.06, 195.04, 197.02, 199.  ]),\n",
       " <BarContainer object of 100 artists>)"
      ]
     },
     "execution_count": 29,
     "metadata": {},
     "output_type": "execute_result"
    },
    {
     "data": {
      "image/png": "[encoded data removed]",
      "text/plain": [
       "<Figure size 432x288 with 1 Axes>"
      ]
     },
     "metadata": {
      "needs_background": "light"
     },
     "output_type": "display_data"
    }
   ],
   "source": [
    "plt.hist(y, bins = 100)"
   ]
  },
  {
   "cell_type": "code",
   "execution_count": 33,
   "id": "e7529da1",
   "metadata": {},
   "outputs": [
    {
     "data": {
      "text/plain": [
       "(array([ 9.,  7.,  1.,  3.,  2.,  5.,  3.,  3.,  6.,  5.,  7.,  6.,  1.,\n",
       "         3.,  7.,  8.,  2.,  4.,  8.,  3.,  8.,  9.,  4.,  4.,  8.,  7.,\n",
       "         5.,  3.,  6.,  2.,  6.,  8.,  6.,  8.,  3.,  7.,  3.,  7., 10.,\n",
       "         7.,  4.,  7.,  4.,  2.,  4.,  2.,  2., 10.,  2.,  6.,  7.,  3.,\n",
       "         5.,  4.,  5.,  4.,  4.,  5.,  6.,  7.,  7.,  9.,  3.,  3.,  4.,\n",
       "         5.,  5.,  3.,  5.,  1.,  3.,  2., 12.,  4.,  3.,  8.,  4.,  3.,\n",
       "         4.,  1.,  3.,  7.,  3.,  5.,  4.,  7., 10.,  1.,  5.,  8.,  4.,\n",
       "         5.,  3.,  7.,  3.,  8.,  8.,  4.,  5.,  4.]),\n",
       " array([  1.  ,   2.98,   4.96,   6.94,   8.92,  10.9 ,  12.88,  14.86,\n",
       "         16.84,  18.82,  20.8 ,  22.78,  24.76,  26.74,  28.72,  30.7 ,\n",
       "         32.68,  34.66,  36.64,  38.62,  40.6 ,  42.58,  44.56,  46.54,\n",
       "         48.52,  50.5 ,  52.48,  54.46,  56.44,  58.42,  60.4 ,  62.38,\n",
       "         64.36,  66.34,  68.32,  70.3 ,  72.28,  74.26,  76.24,  78.22,\n",
       "         80.2 ,  82.18,  84.16,  86.14,  88.12,  90.1 ,  92.08,  94.06,\n",
       "         96.04,  98.02, 100.  , 101.98, 103.96, 105.94, 107.92, 109.9 ,\n",
       "        111.88, 113.86, 115.84, 117.82, 119.8 , 121.78, 123.76, 125.74,\n",
       "        127.72, 129.7 , 131.68, 133.66, 135.64, 137.62, 139.6 , 141.58,\n",
       "        143.56, 145.54, 147.52, 149.5 , 151.48, 153.46, 155.44, 157.42,\n",
       "        159.4 , 161.38, 163.36, 165.34, 167.32, 169.3 , 171.28, 173.26,\n",
       "        175.24, 177.22, 179.2 , 181.18, 183.16, 185.14, 187.12, 189.1 ,\n",
       "        191.08, 193.06, 195.04, 197.02, 199.  ]),\n",
       " <BarContainer object of 100 artists>)"
      ]
     },
     "execution_count": 33,
     "metadata": {},
     "output_type": "execute_result"
    },
    {
     "data": {
      "image/png": "[encoded data removed]",
      "text/plain": [
       "<Figure size 432x288 with 1 Axes>"
      ]
     },
     "metadata": {
      "needs_background": "light"
     },
     "output_type": "display_data"
    }
   ],
   "source": [
    "plt.hist(x, bins = 100)\n",
    "plt.hist(y, bins = 100)"
   ]
  },
  {
   "cell_type": "code",
   "execution_count": 31,
   "id": "64d481a8",
   "metadata": {},
   "outputs": [],
   "source": [
    "from sklearn.preprocessing import MinMaxScaler"
   ]
  },
  {
   "cell_type": "code",
   "execution_count": 38,
   "id": "81c00c68",
   "metadata": {},
   "outputs": [
    {
     "ename": "ValueError",
     "evalue": "Expected 2D array, got 1D array instead:\narray=[417.  62.  15. 248.  74. 302. 201. 469.   7.  39. 208.  41.  53. 186.\n 241. 119. 126. 404. 136.  31. 489. 334. 429. 452. 102. 439. 165. 437.\n  74.  48. 388. 231. 168. 477. 442. 414. 189. 113. 132. 297. 340.  11.\n 276. 202.  36. 464. 106. 150. 124.  51. 347. 320. 426. 399. 370.   5.\n 335. 371. 151. 146.  45. 448. 223. 298. 221. 455. 271. 141.  29. 315.\n 276.  66. 144. 296. 282. 412. 293. 243. 394.  95. 260. 148. 227.  13.\n 446. 359. 233. 466. 376.  95.  23. 380. 140. 484. 466. 433.  48. 167.\n 446. 391. 144. 359.  66. 398. 150. 334. 427. 312. 383.  25. 362. 194.\n 210. 445. 173. 162. 133.  87. 100.  40. 225. 146. 279. 146. 123. 354.\n 185.   9. 357. 358. 335. 427. 124. 161. 266. 429. 444. 288. 340. 421.\n 112. 134. 469.  50. 106. 211. 489. 366. 204. 446. 309. 271. 258. 493.\n 160.  38. 203. 225. 201. 215.  96. 173. 410. 226. 295. 495.  62. 360.\n 382. 153. 449. 245. 260. 252. 131. 431.  45. 372. 260. 223.  69. 387.\n 401. 297. 151. 394. 431. 150. 177. 329. 161. 147. 256. 376. 323. 299.\n 155. 498. 109.  68. 451. 423.  63.  37. 229. 383.  54. 227. 389. 322.\n 120.  69.  84.  61. 279.  41. 255.  94. 404. 499. 209. 321. 188. 388.\n 389. 389. 130. 206. 213. 115. 476. 221.  60. 458. 324.  62. 385. 394.\n  72. 374.  30.  23. 412. 283. 347. 102. 260. 468.  93. 362.  53. 456.\n 451. 438. 239. 493. 266. 275. 482. 303. 123. 347. 372. 359.  30. 307.\n 314.  11. 235. 308. 429.   5. 247. 304. 155. 344. 292.  16. 355. 234.\n 499. 480. 326. 100. 307. 171. 139. 427. 235.   7. 412. 261. 250. 114.\n  68. 120. 459.  72. 346. 204. 400. 209. 129.  31. 170.  66. 183. 496.\n 326. 394. 387.  94. 310. 200. 469. 367. 424. 142. 264. 403. 176. 339.\n 493. 348. 491.  39. 445.  15.  32. 300. 338. 477. 429. 477. 131. 192.\n  64. 463. 429. 240. 360. 477. 464.  77. 168. 248.  83. 160. 337. 139.\n 433. 212.  79. 243. 307. 451.  67. 356. 147.  42. 426.  51. 201. 197.\n 243. 335.  22. 413.  37. 378.  40. 410. 306. 365. 280. 114. 342. 410.\n 186.  45.  63. 208.  95. 213. 496. 442. 293. 295. 279. 129. 440. 235.\n 101. 496. 387. 248. 198. 372. 158. 378. 118. 462. 451. 140. 239. 458.\n  40.  80.   7. 416. 430. 441. 486.  18. 349. 470. 298. 194. 229.  80.\n  59. 156. 252. 223.  71. 172. 201. 118. 151. 134. 302. 400. 291. 325.\n 248. 481. 180. 289. 421.  43. 381.  71. 135. 182. 374.  57. 202. 217.\n 379.  36. 100. 108. 318. 332. 120.   9. 275. 292. 242. 358. 439. 430.\n 145. 270.  31. 235. 330. 166. 240. 463. 199. 379.  17. 235. 453. 170.\n 118. 296. 164. 476. 232. 313. 412. 349. 388. 429. 304. 277. 491.  45.\n  17. 208. 245. 370.  73. 220. 453. 431. 355. 481.].\nReshape your data either using array.reshape(-1, 1) if your data has a single feature or array.reshape(1, -1) if it contains a single sample.",
     "output_type": "error",
     "traceback": [
      "\u001b[0;31m---------------------------------------------------------------------------\u001b[0m",
      "\u001b[0;31mValueError\u001b[0m                                Traceback (most recent call last)",
      "\u001b[0;32m<ipython-input-38-fa77f7482854>\u001b[0m in \u001b[0;36m<module>\u001b[0;34m\u001b[0m\n\u001b[1;32m      1\u001b[0m \u001b[0mxScaler\u001b[0m \u001b[0;34m=\u001b[0m \u001b[0mMinMaxScaler\u001b[0m\u001b[0;34m(\u001b[0m\u001b[0;34m)\u001b[0m\u001b[0;34m\u001b[0m\u001b[0;34m\u001b[0m\u001b[0m\n\u001b[0;32m----> 2\u001b[0;31m \u001b[0mxMinmaxscaled\u001b[0m \u001b[0;34m=\u001b[0m \u001b[0mxScaler\u001b[0m\u001b[0;34m.\u001b[0m\u001b[0mfit_transform\u001b[0m\u001b[0;34m(\u001b[0m\u001b[0mx\u001b[0m\u001b[0;34m)\u001b[0m\u001b[0;34m\u001b[0m\u001b[0;34m\u001b[0m\u001b[0m\n\u001b[0m\u001b[1;32m      3\u001b[0m \u001b[0;34m\u001b[0m\u001b[0m\n\u001b[1;32m      4\u001b[0m \u001b[0myScaler\u001b[0m \u001b[0;34m=\u001b[0m \u001b[0mMinMaxScaler\u001b[0m\u001b[0;34m(\u001b[0m\u001b[0;34m)\u001b[0m\u001b[0;34m\u001b[0m\u001b[0;34m\u001b[0m\u001b[0m\n\u001b[1;32m      5\u001b[0m \u001b[0myMinmaxscaled\u001b[0m \u001b[0;34m=\u001b[0m \u001b[0myScaler\u001b[0m\u001b[0;34m.\u001b[0m\u001b[0mfit_transform\u001b[0m\u001b[0;34m(\u001b[0m\u001b[0my\u001b[0m\u001b[0;34m)\u001b[0m\u001b[0;34m\u001b[0m\u001b[0;34m\u001b[0m\u001b[0m\n",
      "\u001b[0;32m~/opt/anaconda3/envs/newEnvironment/lib/python3.8/site-packages/sklearn/base.py\u001b[0m in \u001b[0;36mfit_transform\u001b[0;34m(self, X, y, **fit_params)\u001b[0m\n\u001b[1;32m    569\u001b[0m         \u001b[0;32mif\u001b[0m \u001b[0my\u001b[0m \u001b[0;32mis\u001b[0m \u001b[0;32mNone\u001b[0m\u001b[0;34m:\u001b[0m\u001b[0;34m\u001b[0m\u001b[0;34m\u001b[0m\u001b[0m\n\u001b[1;32m    570\u001b[0m             \u001b[0;31m# fit method of arity 1 (unsupervised transformation)\u001b[0m\u001b[0;34m\u001b[0m\u001b[0;34m\u001b[0m\u001b[0;34m\u001b[0m\u001b[0m\n\u001b[0;32m--> 571\u001b[0;31m             \u001b[0;32mreturn\u001b[0m \u001b[0mself\u001b[0m\u001b[0;34m.\u001b[0m\u001b[0mfit\u001b[0m\u001b[0;34m(\u001b[0m\u001b[0mX\u001b[0m\u001b[0;34m,\u001b[0m \u001b[0;34m**\u001b[0m\u001b[0mfit_params\u001b[0m\u001b[0;34m)\u001b[0m\u001b[0;34m.\u001b[0m\u001b[0mtransform\u001b[0m\u001b[0;34m(\u001b[0m\u001b[0mX\u001b[0m\u001b[0;34m)\u001b[0m\u001b[0;34m\u001b[0m\u001b[0;34m\u001b[0m\u001b[0m\n\u001b[0m\u001b[1;32m    572\u001b[0m         \u001b[0;32melse\u001b[0m\u001b[0;34m:\u001b[0m\u001b[0;34m\u001b[0m\u001b[0;34m\u001b[0m\u001b[0m\n\u001b[1;32m    573\u001b[0m             \u001b[0;31m# fit method of arity 2 (supervised transformation)\u001b[0m\u001b[0;34m\u001b[0m\u001b[0;34m\u001b[0m\u001b[0;34m\u001b[0m\u001b[0m\n",
      "\u001b[0;32m~/opt/anaconda3/envs/newEnvironment/lib/python3.8/site-packages/sklearn/preprocessing/_data.py\u001b[0m in \u001b[0;36mfit\u001b[0;34m(self, X, y)\u001b[0m\n\u001b[1;32m    337\u001b[0m         \u001b[0;31m# Reset internal state before fitting\u001b[0m\u001b[0;34m\u001b[0m\u001b[0;34m\u001b[0m\u001b[0;34m\u001b[0m\u001b[0m\n\u001b[1;32m    338\u001b[0m         \u001b[0mself\u001b[0m\u001b[0;34m.\u001b[0m\u001b[0m_reset\u001b[0m\u001b[0;34m(\u001b[0m\u001b[0;34m)\u001b[0m\u001b[0;34m\u001b[0m\u001b[0;34m\u001b[0m\u001b[0m\n\u001b[0;32m--> 339\u001b[0;31m         \u001b[0;32mreturn\u001b[0m \u001b[0mself\u001b[0m\u001b[0;34m.\u001b[0m\u001b[0mpartial_fit\u001b[0m\u001b[0;34m(\u001b[0m\u001b[0mX\u001b[0m\u001b[0;34m,\u001b[0m \u001b[0my\u001b[0m\u001b[0;34m)\u001b[0m\u001b[0;34m\u001b[0m\u001b[0;34m\u001b[0m\u001b[0m\n\u001b[0m\u001b[1;32m    340\u001b[0m \u001b[0;34m\u001b[0m\u001b[0m\n\u001b[1;32m    341\u001b[0m     \u001b[0;32mdef\u001b[0m \u001b[0mpartial_fit\u001b[0m\u001b[0;34m(\u001b[0m\u001b[0mself\u001b[0m\u001b[0;34m,\u001b[0m \u001b[0mX\u001b[0m\u001b[0;34m,\u001b[0m \u001b[0my\u001b[0m\u001b[0;34m=\u001b[0m\u001b[0;32mNone\u001b[0m\u001b[0;34m)\u001b[0m\u001b[0;34m:\u001b[0m\u001b[0;34m\u001b[0m\u001b[0;34m\u001b[0m\u001b[0m\n",
      "\u001b[0;32m~/opt/anaconda3/envs/newEnvironment/lib/python3.8/site-packages/sklearn/preprocessing/_data.py\u001b[0m in \u001b[0;36mpartial_fit\u001b[0;34m(self, X, y)\u001b[0m\n\u001b[1;32m    369\u001b[0m                             \"Consider using MaxAbsScaler instead.\")\n\u001b[1;32m    370\u001b[0m \u001b[0;34m\u001b[0m\u001b[0m\n\u001b[0;32m--> 371\u001b[0;31m         X = check_array(X,\n\u001b[0m\u001b[1;32m    372\u001b[0m                         \u001b[0mestimator\u001b[0m\u001b[0;34m=\u001b[0m\u001b[0mself\u001b[0m\u001b[0;34m,\u001b[0m \u001b[0mdtype\u001b[0m\u001b[0;34m=\u001b[0m\u001b[0mFLOAT_DTYPES\u001b[0m\u001b[0;34m,\u001b[0m\u001b[0;34m\u001b[0m\u001b[0;34m\u001b[0m\u001b[0m\n\u001b[1;32m    373\u001b[0m                         force_all_finite=\"allow-nan\")\n",
      "\u001b[0;32m~/opt/anaconda3/envs/newEnvironment/lib/python3.8/site-packages/sklearn/utils/validation.py\u001b[0m in \u001b[0;36mcheck_array\u001b[0;34m(array, accept_sparse, accept_large_sparse, dtype, order, copy, force_all_finite, ensure_2d, allow_nd, ensure_min_samples, ensure_min_features, warn_on_dtype, estimator)\u001b[0m\n\u001b[1;32m    550\u001b[0m             \u001b[0;31m# If input is 1D raise error\u001b[0m\u001b[0;34m\u001b[0m\u001b[0;34m\u001b[0m\u001b[0;34m\u001b[0m\u001b[0m\n\u001b[1;32m    551\u001b[0m             \u001b[0;32mif\u001b[0m \u001b[0marray\u001b[0m\u001b[0;34m.\u001b[0m\u001b[0mndim\u001b[0m \u001b[0;34m==\u001b[0m \u001b[0;36m1\u001b[0m\u001b[0;34m:\u001b[0m\u001b[0;34m\u001b[0m\u001b[0;34m\u001b[0m\u001b[0m\n\u001b[0;32m--> 552\u001b[0;31m                 raise ValueError(\n\u001b[0m\u001b[1;32m    553\u001b[0m                     \u001b[0;34m\"Expected 2D array, got 1D array instead:\\narray={}.\\n\"\u001b[0m\u001b[0;34m\u001b[0m\u001b[0;34m\u001b[0m\u001b[0m\n\u001b[1;32m    554\u001b[0m                     \u001b[0;34m\"Reshape your data either using array.reshape(-1, 1) if \"\u001b[0m\u001b[0;34m\u001b[0m\u001b[0;34m\u001b[0m\u001b[0m\n",
      "\u001b[0;31mValueError\u001b[0m: Expected 2D array, got 1D array instead:\narray=[417.  62.  15. 248.  74. 302. 201. 469.   7.  39. 208.  41.  53. 186.\n 241. 119. 126. 404. 136.  31. 489. 334. 429. 452. 102. 439. 165. 437.\n  74.  48. 388. 231. 168. 477. 442. 414. 189. 113. 132. 297. 340.  11.\n 276. 202.  36. 464. 106. 150. 124.  51. 347. 320. 426. 399. 370.   5.\n 335. 371. 151. 146.  45. 448. 223. 298. 221. 455. 271. 141.  29. 315.\n 276.  66. 144. 296. 282. 412. 293. 243. 394.  95. 260. 148. 227.  13.\n 446. 359. 233. 466. 376.  95.  23. 380. 140. 484. 466. 433.  48. 167.\n 446. 391. 144. 359.  66. 398. 150. 334. 427. 312. 383.  25. 362. 194.\n 210. 445. 173. 162. 133.  87. 100.  40. 225. 146. 279. 146. 123. 354.\n 185.   9. 357. 358. 335. 427. 124. 161. 266. 429. 444. 288. 340. 421.\n 112. 134. 469.  50. 106. 211. 489. 366. 204. 446. 309. 271. 258. 493.\n 160.  38. 203. 225. 201. 215.  96. 173. 410. 226. 295. 495.  62. 360.\n 382. 153. 449. 245. 260. 252. 131. 431.  45. 372. 260. 223.  69. 387.\n 401. 297. 151. 394. 431. 150. 177. 329. 161. 147. 256. 376. 323. 299.\n 155. 498. 109.  68. 451. 423.  63.  37. 229. 383.  54. 227. 389. 322.\n 120.  69.  84.  61. 279.  41. 255.  94. 404. 499. 209. 321. 188. 388.\n 389. 389. 130. 206. 213. 115. 476. 221.  60. 458. 324.  62. 385. 394.\n  72. 374.  30.  23. 412. 283. 347. 102. 260. 468.  93. 362.  53. 456.\n 451. 438. 239. 493. 266. 275. 482. 303. 123. 347. 372. 359.  30. 307.\n 314.  11. 235. 308. 429.   5. 247. 304. 155. 344. 292.  16. 355. 234.\n 499. 480. 326. 100. 307. 171. 139. 427. 235.   7. 412. 261. 250. 114.\n  68. 120. 459.  72. 346. 204. 400. 209. 129.  31. 170.  66. 183. 496.\n 326. 394. 387.  94. 310. 200. 469. 367. 424. 142. 264. 403. 176. 339.\n 493. 348. 491.  39. 445.  15.  32. 300. 338. 477. 429. 477. 131. 192.\n  64. 463. 429. 240. 360. 477. 464.  77. 168. 248.  83. 160. 337. 139.\n 433. 212.  79. 243. 307. 451.  67. 356. 147.  42. 426.  51. 201. 197.\n 243. 335.  22. 413.  37. 378.  40. 410. 306. 365. 280. 114. 342. 410.\n 186.  45.  63. 208.  95. 213. 496. 442. 293. 295. 279. 129. 440. 235.\n 101. 496. 387. 248. 198. 372. 158. 378. 118. 462. 451. 140. 239. 458.\n  40.  80.   7. 416. 430. 441. 486.  18. 349. 470. 298. 194. 229.  80.\n  59. 156. 252. 223.  71. 172. 201. 118. 151. 134. 302. 400. 291. 325.\n 248. 481. 180. 289. 421.  43. 381.  71. 135. 182. 374.  57. 202. 217.\n 379.  36. 100. 108. 318. 332. 120.   9. 275. 292. 242. 358. 439. 430.\n 145. 270.  31. 235. 330. 166. 240. 463. 199. 379.  17. 235. 453. 170.\n 118. 296. 164. 476. 232. 313. 412. 349. 388. 429. 304. 277. 491.  45.\n  17. 208. 245. 370.  73. 220. 453. 431. 355. 481.].\nReshape your data either using array.reshape(-1, 1) if your data has a single feature or array.reshape(1, -1) if it contains a single sample."
     ]
    }
   ],
   "source": [
    "xScaler = MinMaxScaler()\n",
    "xMinmaxscaled = xScaler.fit_transform(x)\n",
    "\n",
    "yScaler = MinMaxScaler()\n",
    "yMinmaxscaled = yScaler.fit_transform(y)"
   ]
  }
 ],
 "metadata": {
  "kernelspec": {
   "display_name": "Python 3",
   "language": "python",
   "name": "python3"
  },
  "language_info": {
   "codemirror_mode": {
    "name": "ipython",
    "version": 3
   },
   "file_extension": ".py",
   "mimetype": "text/x-python",
   "name": "python",
   "nbconvert_exporter": "python",
   "pygments_lexer": "ipython3",
   "version": "3.9.5"
  }
 },
 "nbformat": 4,
 "nbformat_minor": 5
}
